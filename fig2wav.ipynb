{
 "cells": [
  {
   "cell_type": "code",
   "execution_count": 1,
   "metadata": {},
   "outputs": [
    {
     "data": {
      "text/plain": [
       "'\\nREADME.md\\n* transfer the magnitude and phase graph to wave file\\n'"
      ]
     },
     "execution_count": 1,
     "metadata": {},
     "output_type": "execute_result"
    }
   ],
   "source": [
    "'''\n",
    "README.md\n",
    "* transfer the magnitude and phase graph to wave file\n",
    "'''"
   ]
  },
  {
   "cell_type": "code",
   "execution_count": 4,
   "metadata": {},
   "outputs": [],
   "source": [
    "import librosa\n",
    "import librosa.display\n",
    "import numpy as np\n",
    "import os"
   ]
  },
  {
   "cell_type": "code",
   "execution_count": 3,
   "metadata": {},
   "outputs": [
    {
     "name": "stdout",
     "output_type": "stream",
     "text": [
      "sr = 16000\n",
      "n_fft = 512\n",
      "hop_length = 256\n",
      "in_dir = './GRAPH'\n",
      "out_dir = './SOUND'\n"
     ]
    }
   ],
   "source": [
    "from config import MIN as config\n",
    "SR = config.SR\n",
    "N_FFT = config.N_FFT\n",
    "HOP_LENGTH = config.HOP_LENGTH\n",
    "IN_DIR = config.FIG_DIR\n",
    "OUT_DIR = config.SND_DIR\n",
    "print('sr = {}\\nn_fft = {}\\nhop_length = {}'.format(SR, N_FFT, HOP_LENGTH))\n",
    "print('in_dir = \\'{}\\'\\nout_dir = \\'{}\\''.format(IN_DIR, OUT_DIR))"
   ]
  },
  {
   "cell_type": "code",
   "execution_count": 44,
   "metadata": {},
   "outputs": [],
   "source": [
    "def figs2wav(mag, phs):\n",
    "    stft = mag * np.exp(1.j * phs)\n",
    "    y = librosa.istft(stft, HOP_LENGTH, N_FFT)\n",
    "    return y\n",
    "\n",
    "def write_wav(name, y): #mono wave\n",
    "    librosa.output.write_wav(OUT_DIR+'/'+name, y, SR)\n",
    "    \n",
    "def out_wav_name(root, org_file):\n",
    "    root = root.replace(IN_DIR+'/', '').replace('/', '-')+'-'\n",
    "    wav_name = root + org_file[:-6]+'.wav'\n",
    "    return wav_name\n",
    "\n",
    "def recover(path, name):\n",
    "    mag = []\n",
    "    phs = []\n",
    "    for _, _, files in os.walk(path):\n",
    "        for file in sorted(files): \n",
    "            if file[:-6] == name:\n",
    "                if file[:-4].endswith('-m'): mag=np.load(path+'/'+name+'-m.npy')\n",
    "                elif file[:-4].endswith('-p'): print(file)#phs=np.load(path+'/'+name+'-m.npy')\n",
    "                else: print('errors!')\n",
    "\n",
    "def recover_all(in_path):  \n",
    "    for root, _, files in os.walk(in_path) :\n",
    "        if root.count('/')==3:\n",
    "            for filename in sorted(files):\n",
    "                if not filename.startswith('.'):\n",
    "                    while len(files)>0:\n",
    "                        mag = np.load(root+'/'+files.pop(0))\n",
    "                        phs = np.load(root+'/'+files.pop(0))\n",
    "                        y = figs2wav(mag, phs)\n",
    "                        write_wav(out_wav_name(root, filename), y)"
   ]
  },
  {
   "cell_type": "code",
   "execution_count": 45,
   "metadata": {},
   "outputs": [
    {
     "name": "stdout",
     "output_type": "stream",
     "text": [
      "01ShiLinYeQu-p.npy\n"
     ]
    }
   ],
   "source": [
    "recover('./GRAPH_MIN/Ruan/LiuBo', '01ShiLinYeQu')"
   ]
  },
  {
   "cell_type": "code",
   "execution_count": 31,
   "metadata": {},
   "outputs": [
    {
     "ename": "NameError",
     "evalue": "name 'IN_DIR' is not defined",
     "output_type": "error",
     "traceback": [
      "\u001b[0;31m---------------------------------------------------------------------------\u001b[0m",
      "\u001b[0;31mNameError\u001b[0m                                 Traceback (most recent call last)",
      "\u001b[0;32m<ipython-input-31-78333a98aede>\u001b[0m in \u001b[0;36m<module>\u001b[0;34m\u001b[0m\n\u001b[0;32m----> 1\u001b[0;31m \u001b[0mrecover_all\u001b[0m\u001b[0;34m(\u001b[0m\u001b[0mIN_DIR\u001b[0m\u001b[0;34m)\u001b[0m\u001b[0;34m\u001b[0m\u001b[0;34m\u001b[0m\u001b[0m\n\u001b[0m",
      "\u001b[0;31mNameError\u001b[0m: name 'IN_DIR' is not defined"
     ]
    }
   ],
   "source": [
    "recover_all(IN_DIR)"
   ]
  },
  {
   "cell_type": "code",
   "execution_count": null,
   "metadata": {},
   "outputs": [],
   "source": []
  }
 ],
 "metadata": {
  "kernelspec": {
   "display_name": "Python 3",
   "language": "python",
   "name": "python3"
  },
  "language_info": {
   "codemirror_mode": {
    "name": "ipython",
    "version": 3
   },
   "file_extension": ".py",
   "mimetype": "text/x-python",
   "name": "python",
   "nbconvert_exporter": "python",
   "pygments_lexer": "ipython3",
   "version": "3.7.1"
  }
 },
 "nbformat": 4,
 "nbformat_minor": 2
}
