{
 "cells": [
  {
   "cell_type": "code",
   "execution_count": 85,
   "metadata": {},
   "outputs": [],
   "source": [
    "import librosa\n",
    "import math"
   ]
  },
  {
   "cell_type": "code",
   "execution_count": 13,
   "metadata": {},
   "outputs": [],
   "source": [
    "path = '../Ruan/LiuBo/'\n",
    "file = '01ShiLinYeQu'\n",
    "duration = 1 #measure in seconds\n",
    "start = 0 #measure in seconds"
   ]
  },
  {
   "cell_type": "code",
   "execution_count": 45,
   "metadata": {},
   "outputs": [
    {
     "name": "stdout",
     "output_type": "stream",
     "text": [
      "16000 512 256\n"
     ]
    }
   ],
   "source": [
    "from config import MIN as config\n",
    "SR = config.SR\n",
    "N_FFT = config.N_FFT\n",
    "HOP_LENGTH = config.HOP_LENGTH\n",
    "print(SR, N_FFT, HOP_LENGTH)"
   ]
  },
  {
   "cell_type": "code",
   "execution_count": 97,
   "metadata": {},
   "outputs": [],
   "source": [
    "def sec2tick(duration): #input: duration in seconds, return: loading time\n",
    "    return duration * SR\n",
    "\n",
    "#input: the time in seconds, \n",
    "#return: tick on spectrogram\n",
    "def get_t(time): \n",
    "    return time*SR//HOP_LENGTH+1"
   ]
  },
  {
   "cell_type": "code",
   "execution_count": null,
   "metadata": {},
   "outputs": [],
   "source": []
  },
  {
   "cell_type": "code",
   "execution_count": 105,
   "metadata": {},
   "outputs": [
    {
     "data": {
      "text/plain": [
       "3200000"
      ]
     },
     "execution_count": 105,
     "metadata": {},
     "output_type": "execute_result"
    }
   ],
   "source": [
    "file = '../WAV/Ruan/LiuBo/01ShiLinYeQu.wav'\n",
    "y,_ = librosa.load(file, sr=SR, offset=0.0, duration=200)\n",
    "len(y)"
   ]
  },
  {
   "cell_type": "code",
   "execution_count": 106,
   "metadata": {},
   "outputs": [
    {
     "name": "stdout",
     "output_type": "stream",
     "text": [
      "12501\n",
      "12501\n"
     ]
    }
   ],
   "source": [
    "D = librosa.stft(y, N_FFT, HOP_LENGTH, N_FFT)\n",
    "print(len(D[0]))\n",
    "print(get_t(200))"
   ]
  },
  {
   "cell_type": "code",
   "execution_count": null,
   "metadata": {},
   "outputs": [],
   "source": []
  }
 ],
 "metadata": {
  "kernelspec": {
   "display_name": "Python 3",
   "language": "python",
   "name": "python3"
  },
  "language_info": {
   "codemirror_mode": {
    "name": "ipython",
    "version": 3
   },
   "file_extension": ".py",
   "mimetype": "text/x-python",
   "name": "python",
   "nbconvert_exporter": "python",
   "pygments_lexer": "ipython3",
   "version": "3.7.1"
  }
 },
 "nbformat": 4,
 "nbformat_minor": 2
}
