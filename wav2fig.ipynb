{
 "cells": [
  {
   "cell_type": "code",
   "execution_count": 1,
   "metadata": {},
   "outputs": [
    {
     "data": {
      "text/plain": [
       "'\\nREADME.md\\n* transfer the wav to spectrogram\\n'"
      ]
     },
     "execution_count": 1,
     "metadata": {},
     "output_type": "execute_result"
    }
   ],
   "source": [
    "'''\n",
    "README.md\n",
    "* transfer the wav to spectrogram\n",
    "'''"
   ]
  },
  {
   "cell_type": "code",
   "execution_count": 2,
   "metadata": {},
   "outputs": [],
   "source": [
    "import os\n",
    "import librosa\n",
    "import numpy as np"
   ]
  },
  {
   "cell_type": "code",
   "execution_count": 3,
   "metadata": {},
   "outputs": [
    {
     "name": "stdout",
     "output_type": "stream",
     "text": [
      "sr = 16000\n",
      "n_fft = 512\n",
      "hop_length = 256\n",
      "in_dir = './WAV'\n",
      "out_dir = './GRAPH'\n"
     ]
    }
   ],
   "source": [
    "from config import MIN as config\n",
    "SR = config.SR\n",
    "N_FFT = config.N_FFT\n",
    "HOP_LENGTH = config.HOP_LENGTH\n",
    "IN_DIR = config.ORG_DIR\n",
    "OUT_DIR = config.FIG_DIR\n",
    "print('sr = {}\\nn_fft = {}\\nhop_length = {}'.format(SR, N_FFT, HOP_LENGTH))\n",
    "print('in_dir = \\'{}\\'\\nout_dir = \\'{}\\''.format(IN_DIR, OUT_DIR))"
   ]
  },
  {
   "cell_type": "code",
   "execution_count": 4,
   "metadata": {},
   "outputs": [],
   "source": [
    "# util.py\n",
    "\n",
    "def duration (file):\n",
    "    sr = config.SR\n",
    "    length = len(file)\n",
    "    minute = length/sr//60\n",
    "    second = length//sr - 60*minute\n",
    "    return minute, second\n",
    "\n",
    "def get_timestamp (tick):\n",
    "    if tick == 0:\n",
    "        return 0\n",
    "    return tick*config.Default.HOP_LENGTH - 384\n",
    "\n",
    "#Get out_path for spectrograms\n",
    "def get_out_path(file):\n",
    "    out_path = OUT_DIR\n",
    "    root = file.split('/')\n",
    "    root.pop(0)\n",
    "    root.pop(0)\n",
    "    root[-1] = root[-1][:-4]\n",
    "    out_path += '/' + root[0]\n",
    "    if not os.path.isdir(out_path):\n",
    "        os.mkdir(out_path)\n",
    "        out_path += '/' + root[1]\n",
    "        os.mkdir(out_path)\n",
    "    else:\n",
    "        out_path += '/' + root[1]\n",
    "        if not os.path.isdir(out_path):\n",
    "            os.mkdir(out_path)\n",
    "    out_path += '/' + root[2]\n",
    "    return out_path\n",
    "\n",
    "#Get spectrograms\n",
    "def wav2figs(file):\n",
    "    y,sr = librosa.load(file, SR)\n",
    "    D = librosa.stft(y, N_FFT, HOP_LENGTH, N_FFT)\n",
    "    magnitude = np.abs(D)\n",
    "    phase = np.angle(D)\n",
    "    return magnitude, phase "
   ]
  },
  {
   "cell_type": "code",
   "execution_count": 5,
   "metadata": {},
   "outputs": [],
   "source": [
    "#process files\n",
    "for root, _, files in os.walk(IN_DIR):\n",
    "    if root.count('/') == 3:\n",
    "        for filename in sorted(files):\n",
    "            if not filename.startswith('.'):\n",
    "                #get filenames\n",
    "                file = root + '/' + filename\n",
    "                \n",
    "                #get magnitude and phase\n",
    "                mag,phase = wav2figs(file)\n",
    "                \n",
    "                #save output\n",
    "                out = get_out_path(file)\n",
    "                np.save(out + '-m', mag)\n",
    "                np.save(out + '-p', phase)"
   ]
  },
  {
   "cell_type": "code",
   "execution_count": 27,
   "metadata": {},
   "outputs": [],
   "source": [
    "# #try convert a wav\n",
    "# def figs2stft(mag, phs):\n",
    "#     stft = mag * np.exp(1.j * phs)\n",
    "#     return stft\n",
    "\n",
    "# def stft2wav(stft):\n",
    "#     y = librosa.istft(stft, HOP_LENGTH, N_FFT)\n",
    "#     return y\n",
    "\n",
    "# def write_wav(name, y): #mono wave\n",
    "#     librosa.output.write_wav(OUT_DIR+'/'+name, y, SR)\n",
    "\n",
    "# file = IN_DIR+'/Ruan/LiuBo/01ShiLinYeQu.wav'\n",
    "# mag,phs = wav2figs(file)\n",
    "# stft=figs2stft(mag,phs)\n",
    "# y=stft2wav(stft)\n",
    "# librosa.output.write_wav('./new.wav', y, SR)"
   ]
  },
  {
   "cell_type": "code",
   "execution_count": null,
   "metadata": {},
   "outputs": [],
   "source": []
  }
 ],
 "metadata": {
  "kernelspec": {
   "display_name": "Python 3",
   "language": "python",
   "name": "python3"
  },
  "language_info": {
   "codemirror_mode": {
    "name": "ipython",
    "version": 3
   },
   "file_extension": ".py",
   "mimetype": "text/x-python",
   "name": "python",
   "nbconvert_exporter": "python",
   "pygments_lexer": "ipython3",
   "version": "3.7.1"
  }
 },
 "nbformat": 4,
 "nbformat_minor": 2
}
